{
  "nbformat": 4,
  "nbformat_minor": 0,
  "metadata": {
    "colab": {
      "provenance": [],
      "collapsed_sections": [
        "2ZYvwJlxkon9",
        "yhdHlAckkymX",
        "-J7wJExpZc4T"
      ],
      "gpuType": "T4"
    },
    "kernelspec": {
      "name": "python3",
      "display_name": "Python 3"
    },
    "language_info": {
      "name": "python"
    },
    "accelerator": "GPU"
  },
  "cells": [
    {
      "cell_type": "markdown",
      "source": [
        "# Data Sci Eng Methods\n",
        "\n",
        "## Neural Network Type Classification | TMNIST\n",
        "\n",
        "### Data Set\n",
        "\n",
        "This dataset consists of images representing digits from 0-9 produced using 2,990 google fonts files.\n",
        "\n",
        "This file consists of 29,900 examples with labels and font names. Each row contains 786 elements: the first element represents the font name (ex-Chivo-Italic, Sen-Bold), the second element represents the label (a number from 0-9) and the remaining 784 elements represent the grayscale pixel values (from 0-255) for the 28x28 pixel image.\n",
        "\n",
        "\n",
        "### Aim:\n",
        "To Create a Neural Network for Classifying the the digits"
      ],
      "metadata": {
        "id": "_NtQ2OdQjAak"
      }
    },
    {
      "cell_type": "code",
      "execution_count": 51,
      "metadata": {
        "id": "PuxQToEP5QY4"
      },
      "outputs": [],
      "source": [
        "# Import lib\n",
        "import numpy as np\n",
        "import pandas as pd\n",
        "import matplotlib\n",
        "import matplotlib.pyplot as plt\n",
        "import seaborn as sns\n",
        "import os\n",
        "import matplotlib.pyplot as plt\n",
        "from PIL import Image\n",
        "from sklearn.model_selection import train_test_split\n",
        "from sklearn.metrics import accuracy_score\n",
        "import tensorflow\n",
        "from tensorflow.keras.models import Sequential\n",
        "from tensorflow.keras.layers import Conv2D, MaxPooling2D, Flatten, Dense, Dropout, ReLU\n",
        "from tensorflow.keras.utils import to_categorical\n",
        "from tensorflow.keras.utils import plot_model"
      ]
    },
    {
      "cell_type": "markdown",
      "source": [
        "# Load Data\n",
        "\n",
        "Using Pandas and DataLoader to load the data"
      ],
      "metadata": {
        "id": "2ZYvwJlxkon9"
      }
    },
    {
      "cell_type": "code",
      "source": [
        "# Raw Data link\n",
        "datalink = \"https://raw.githubusercontent.com/ChaudharyAnshul/NeuralNetwork_TMNIST/main/Dataset/TMNIST_Data.csv\""
      ],
      "metadata": {
        "id": "ee78d3ViHJYW"
      },
      "execution_count": 3,
      "outputs": []
    },
    {
      "cell_type": "code",
      "source": [
        "# Read Data\n",
        "df = pd.read_csv(datalink)"
      ],
      "metadata": {
        "id": "_d9_9DaxlbVZ"
      },
      "execution_count": 4,
      "outputs": []
    },
    {
      "cell_type": "markdown",
      "source": [
        "# Data Processing"
      ],
      "metadata": {
        "id": "yhdHlAckkymX"
      }
    },
    {
      "cell_type": "code",
      "source": [
        "# Check if there are null values\n",
        "null_values = df.isnull().sum()\n",
        "print(null_values[null_values != 0]) # print all the null values"
      ],
      "metadata": {
        "colab": {
          "base_uri": "https://localhost:8080/"
        },
        "id": "Pd4xxEHQlbMH",
        "outputId": "846f3c39-9bc3-4455-b60b-ebd103617f50"
      },
      "execution_count": 5,
      "outputs": [
        {
          "output_type": "stream",
          "name": "stdout",
          "text": [
            "Series([], dtype: int64)\n"
          ]
        }
      ]
    },
    {
      "cell_type": "code",
      "source": [
        "df.head(5)"
      ],
      "metadata": {
        "colab": {
          "base_uri": "https://localhost:8080/",
          "height": 236
        },
        "id": "WGd2kjy0szlg",
        "outputId": "7f31bc44-6e58-4d3a-8518-59525304e2f6"
      },
      "execution_count": 6,
      "outputs": [
        {
          "output_type": "execute_result",
          "data": {
            "text/plain": [
              "                        names  labels  1  2  3  4  5  6  7  8  ...  775  776  \\\n",
              "0          GrandHotel-Regular       2  0  0  0  0  0  0  0  0  ...    0    0   \n",
              "1  EncodeSansCondensed-Medium       8  0  0  0  0  0  0  0  0  ...    0    0   \n",
              "2              Varela-Regular       4  0  0  0  0  0  0  0  0  ...    0    0   \n",
              "3              ArefRuqaa-Bold       3  0  0  0  0  0  0  0  0  ...    0    0   \n",
              "4           KulimPark-Regular       1  0  0  0  0  0  0  0  0  ...    0    0   \n",
              "\n",
              "   777  778  779  780  781  782  783  784  \n",
              "0    0    0    0    0    0    0    0    0  \n",
              "1    0    0    0    0    0    0    0    0  \n",
              "2    0    0    0    0    0    0    0    0  \n",
              "3    0    0    0    0    0    0    0    0  \n",
              "4    0    0    0    0    0    0    0    0  \n",
              "\n",
              "[5 rows x 786 columns]"
            ],
            "text/html": [
              "\n",
              "  <div id=\"df-e8d615e9-2e8f-460a-9cf1-290d6b46e58e\" class=\"colab-df-container\">\n",
              "    <div>\n",
              "<style scoped>\n",
              "    .dataframe tbody tr th:only-of-type {\n",
              "        vertical-align: middle;\n",
              "    }\n",
              "\n",
              "    .dataframe tbody tr th {\n",
              "        vertical-align: top;\n",
              "    }\n",
              "\n",
              "    .dataframe thead th {\n",
              "        text-align: right;\n",
              "    }\n",
              "</style>\n",
              "<table border=\"1\" class=\"dataframe\">\n",
              "  <thead>\n",
              "    <tr style=\"text-align: right;\">\n",
              "      <th></th>\n",
              "      <th>names</th>\n",
              "      <th>labels</th>\n",
              "      <th>1</th>\n",
              "      <th>2</th>\n",
              "      <th>3</th>\n",
              "      <th>4</th>\n",
              "      <th>5</th>\n",
              "      <th>6</th>\n",
              "      <th>7</th>\n",
              "      <th>8</th>\n",
              "      <th>...</th>\n",
              "      <th>775</th>\n",
              "      <th>776</th>\n",
              "      <th>777</th>\n",
              "      <th>778</th>\n",
              "      <th>779</th>\n",
              "      <th>780</th>\n",
              "      <th>781</th>\n",
              "      <th>782</th>\n",
              "      <th>783</th>\n",
              "      <th>784</th>\n",
              "    </tr>\n",
              "  </thead>\n",
              "  <tbody>\n",
              "    <tr>\n",
              "      <th>0</th>\n",
              "      <td>GrandHotel-Regular</td>\n",
              "      <td>2</td>\n",
              "      <td>0</td>\n",
              "      <td>0</td>\n",
              "      <td>0</td>\n",
              "      <td>0</td>\n",
              "      <td>0</td>\n",
              "      <td>0</td>\n",
              "      <td>0</td>\n",
              "      <td>0</td>\n",
              "      <td>...</td>\n",
              "      <td>0</td>\n",
              "      <td>0</td>\n",
              "      <td>0</td>\n",
              "      <td>0</td>\n",
              "      <td>0</td>\n",
              "      <td>0</td>\n",
              "      <td>0</td>\n",
              "      <td>0</td>\n",
              "      <td>0</td>\n",
              "      <td>0</td>\n",
              "    </tr>\n",
              "    <tr>\n",
              "      <th>1</th>\n",
              "      <td>EncodeSansCondensed-Medium</td>\n",
              "      <td>8</td>\n",
              "      <td>0</td>\n",
              "      <td>0</td>\n",
              "      <td>0</td>\n",
              "      <td>0</td>\n",
              "      <td>0</td>\n",
              "      <td>0</td>\n",
              "      <td>0</td>\n",
              "      <td>0</td>\n",
              "      <td>...</td>\n",
              "      <td>0</td>\n",
              "      <td>0</td>\n",
              "      <td>0</td>\n",
              "      <td>0</td>\n",
              "      <td>0</td>\n",
              "      <td>0</td>\n",
              "      <td>0</td>\n",
              "      <td>0</td>\n",
              "      <td>0</td>\n",
              "      <td>0</td>\n",
              "    </tr>\n",
              "    <tr>\n",
              "      <th>2</th>\n",
              "      <td>Varela-Regular</td>\n",
              "      <td>4</td>\n",
              "      <td>0</td>\n",
              "      <td>0</td>\n",
              "      <td>0</td>\n",
              "      <td>0</td>\n",
              "      <td>0</td>\n",
              "      <td>0</td>\n",
              "      <td>0</td>\n",
              "      <td>0</td>\n",
              "      <td>...</td>\n",
              "      <td>0</td>\n",
              "      <td>0</td>\n",
              "      <td>0</td>\n",
              "      <td>0</td>\n",
              "      <td>0</td>\n",
              "      <td>0</td>\n",
              "      <td>0</td>\n",
              "      <td>0</td>\n",
              "      <td>0</td>\n",
              "      <td>0</td>\n",
              "    </tr>\n",
              "    <tr>\n",
              "      <th>3</th>\n",
              "      <td>ArefRuqaa-Bold</td>\n",
              "      <td>3</td>\n",
              "      <td>0</td>\n",
              "      <td>0</td>\n",
              "      <td>0</td>\n",
              "      <td>0</td>\n",
              "      <td>0</td>\n",
              "      <td>0</td>\n",
              "      <td>0</td>\n",
              "      <td>0</td>\n",
              "      <td>...</td>\n",
              "      <td>0</td>\n",
              "      <td>0</td>\n",
              "      <td>0</td>\n",
              "      <td>0</td>\n",
              "      <td>0</td>\n",
              "      <td>0</td>\n",
              "      <td>0</td>\n",
              "      <td>0</td>\n",
              "      <td>0</td>\n",
              "      <td>0</td>\n",
              "    </tr>\n",
              "    <tr>\n",
              "      <th>4</th>\n",
              "      <td>KulimPark-Regular</td>\n",
              "      <td>1</td>\n",
              "      <td>0</td>\n",
              "      <td>0</td>\n",
              "      <td>0</td>\n",
              "      <td>0</td>\n",
              "      <td>0</td>\n",
              "      <td>0</td>\n",
              "      <td>0</td>\n",
              "      <td>0</td>\n",
              "      <td>...</td>\n",
              "      <td>0</td>\n",
              "      <td>0</td>\n",
              "      <td>0</td>\n",
              "      <td>0</td>\n",
              "      <td>0</td>\n",
              "      <td>0</td>\n",
              "      <td>0</td>\n",
              "      <td>0</td>\n",
              "      <td>0</td>\n",
              "      <td>0</td>\n",
              "    </tr>\n",
              "  </tbody>\n",
              "</table>\n",
              "<p>5 rows × 786 columns</p>\n",
              "</div>\n",
              "    <div class=\"colab-df-buttons\">\n",
              "\n",
              "  <div class=\"colab-df-container\">\n",
              "    <button class=\"colab-df-convert\" onclick=\"convertToInteractive('df-e8d615e9-2e8f-460a-9cf1-290d6b46e58e')\"\n",
              "            title=\"Convert this dataframe to an interactive table.\"\n",
              "            style=\"display:none;\">\n",
              "\n",
              "  <svg xmlns=\"http://www.w3.org/2000/svg\" height=\"24px\" viewBox=\"0 -960 960 960\">\n",
              "    <path d=\"M120-120v-720h720v720H120Zm60-500h600v-160H180v160Zm220 220h160v-160H400v160Zm0 220h160v-160H400v160ZM180-400h160v-160H180v160Zm440 0h160v-160H620v160ZM180-180h160v-160H180v160Zm440 0h160v-160H620v160Z\"/>\n",
              "  </svg>\n",
              "    </button>\n",
              "\n",
              "  <style>\n",
              "    .colab-df-container {\n",
              "      display:flex;\n",
              "      gap: 12px;\n",
              "    }\n",
              "\n",
              "    .colab-df-convert {\n",
              "      background-color: #E8F0FE;\n",
              "      border: none;\n",
              "      border-radius: 50%;\n",
              "      cursor: pointer;\n",
              "      display: none;\n",
              "      fill: #1967D2;\n",
              "      height: 32px;\n",
              "      padding: 0 0 0 0;\n",
              "      width: 32px;\n",
              "    }\n",
              "\n",
              "    .colab-df-convert:hover {\n",
              "      background-color: #E2EBFA;\n",
              "      box-shadow: 0px 1px 2px rgba(60, 64, 67, 0.3), 0px 1px 3px 1px rgba(60, 64, 67, 0.15);\n",
              "      fill: #174EA6;\n",
              "    }\n",
              "\n",
              "    .colab-df-buttons div {\n",
              "      margin-bottom: 4px;\n",
              "    }\n",
              "\n",
              "    [theme=dark] .colab-df-convert {\n",
              "      background-color: #3B4455;\n",
              "      fill: #D2E3FC;\n",
              "    }\n",
              "\n",
              "    [theme=dark] .colab-df-convert:hover {\n",
              "      background-color: #434B5C;\n",
              "      box-shadow: 0px 1px 3px 1px rgba(0, 0, 0, 0.15);\n",
              "      filter: drop-shadow(0px 1px 2px rgba(0, 0, 0, 0.3));\n",
              "      fill: #FFFFFF;\n",
              "    }\n",
              "  </style>\n",
              "\n",
              "    <script>\n",
              "      const buttonEl =\n",
              "        document.querySelector('#df-e8d615e9-2e8f-460a-9cf1-290d6b46e58e button.colab-df-convert');\n",
              "      buttonEl.style.display =\n",
              "        google.colab.kernel.accessAllowed ? 'block' : 'none';\n",
              "\n",
              "      async function convertToInteractive(key) {\n",
              "        const element = document.querySelector('#df-e8d615e9-2e8f-460a-9cf1-290d6b46e58e');\n",
              "        const dataTable =\n",
              "          await google.colab.kernel.invokeFunction('convertToInteractive',\n",
              "                                                    [key], {});\n",
              "        if (!dataTable) return;\n",
              "\n",
              "        const docLinkHtml = 'Like what you see? Visit the ' +\n",
              "          '<a target=\"_blank\" href=https://colab.research.google.com/notebooks/data_table.ipynb>data table notebook</a>'\n",
              "          + ' to learn more about interactive tables.';\n",
              "        element.innerHTML = '';\n",
              "        dataTable['output_type'] = 'display_data';\n",
              "        await google.colab.output.renderOutput(dataTable, element);\n",
              "        const docLink = document.createElement('div');\n",
              "        docLink.innerHTML = docLinkHtml;\n",
              "        element.appendChild(docLink);\n",
              "      }\n",
              "    </script>\n",
              "  </div>\n",
              "\n",
              "\n",
              "<div id=\"df-f222011e-561f-44d8-ad5e-ceffd12d8c69\">\n",
              "  <button class=\"colab-df-quickchart\" onclick=\"quickchart('df-f222011e-561f-44d8-ad5e-ceffd12d8c69')\"\n",
              "            title=\"Suggest charts\"\n",
              "            style=\"display:none;\">\n",
              "\n",
              "<svg xmlns=\"http://www.w3.org/2000/svg\" height=\"24px\"viewBox=\"0 0 24 24\"\n",
              "     width=\"24px\">\n",
              "    <g>\n",
              "        <path d=\"M19 3H5c-1.1 0-2 .9-2 2v14c0 1.1.9 2 2 2h14c1.1 0 2-.9 2-2V5c0-1.1-.9-2-2-2zM9 17H7v-7h2v7zm4 0h-2V7h2v10zm4 0h-2v-4h2v4z\"/>\n",
              "    </g>\n",
              "</svg>\n",
              "  </button>\n",
              "\n",
              "<style>\n",
              "  .colab-df-quickchart {\n",
              "      --bg-color: #E8F0FE;\n",
              "      --fill-color: #1967D2;\n",
              "      --hover-bg-color: #E2EBFA;\n",
              "      --hover-fill-color: #174EA6;\n",
              "      --disabled-fill-color: #AAA;\n",
              "      --disabled-bg-color: #DDD;\n",
              "  }\n",
              "\n",
              "  [theme=dark] .colab-df-quickchart {\n",
              "      --bg-color: #3B4455;\n",
              "      --fill-color: #D2E3FC;\n",
              "      --hover-bg-color: #434B5C;\n",
              "      --hover-fill-color: #FFFFFF;\n",
              "      --disabled-bg-color: #3B4455;\n",
              "      --disabled-fill-color: #666;\n",
              "  }\n",
              "\n",
              "  .colab-df-quickchart {\n",
              "    background-color: var(--bg-color);\n",
              "    border: none;\n",
              "    border-radius: 50%;\n",
              "    cursor: pointer;\n",
              "    display: none;\n",
              "    fill: var(--fill-color);\n",
              "    height: 32px;\n",
              "    padding: 0;\n",
              "    width: 32px;\n",
              "  }\n",
              "\n",
              "  .colab-df-quickchart:hover {\n",
              "    background-color: var(--hover-bg-color);\n",
              "    box-shadow: 0 1px 2px rgba(60, 64, 67, 0.3), 0 1px 3px 1px rgba(60, 64, 67, 0.15);\n",
              "    fill: var(--button-hover-fill-color);\n",
              "  }\n",
              "\n",
              "  .colab-df-quickchart-complete:disabled,\n",
              "  .colab-df-quickchart-complete:disabled:hover {\n",
              "    background-color: var(--disabled-bg-color);\n",
              "    fill: var(--disabled-fill-color);\n",
              "    box-shadow: none;\n",
              "  }\n",
              "\n",
              "  .colab-df-spinner {\n",
              "    border: 2px solid var(--fill-color);\n",
              "    border-color: transparent;\n",
              "    border-bottom-color: var(--fill-color);\n",
              "    animation:\n",
              "      spin 1s steps(1) infinite;\n",
              "  }\n",
              "\n",
              "  @keyframes spin {\n",
              "    0% {\n",
              "      border-color: transparent;\n",
              "      border-bottom-color: var(--fill-color);\n",
              "      border-left-color: var(--fill-color);\n",
              "    }\n",
              "    20% {\n",
              "      border-color: transparent;\n",
              "      border-left-color: var(--fill-color);\n",
              "      border-top-color: var(--fill-color);\n",
              "    }\n",
              "    30% {\n",
              "      border-color: transparent;\n",
              "      border-left-color: var(--fill-color);\n",
              "      border-top-color: var(--fill-color);\n",
              "      border-right-color: var(--fill-color);\n",
              "    }\n",
              "    40% {\n",
              "      border-color: transparent;\n",
              "      border-right-color: var(--fill-color);\n",
              "      border-top-color: var(--fill-color);\n",
              "    }\n",
              "    60% {\n",
              "      border-color: transparent;\n",
              "      border-right-color: var(--fill-color);\n",
              "    }\n",
              "    80% {\n",
              "      border-color: transparent;\n",
              "      border-right-color: var(--fill-color);\n",
              "      border-bottom-color: var(--fill-color);\n",
              "    }\n",
              "    90% {\n",
              "      border-color: transparent;\n",
              "      border-bottom-color: var(--fill-color);\n",
              "    }\n",
              "  }\n",
              "</style>\n",
              "\n",
              "  <script>\n",
              "    async function quickchart(key) {\n",
              "      const quickchartButtonEl =\n",
              "        document.querySelector('#' + key + ' button');\n",
              "      quickchartButtonEl.disabled = true;  // To prevent multiple clicks.\n",
              "      quickchartButtonEl.classList.add('colab-df-spinner');\n",
              "      try {\n",
              "        const charts = await google.colab.kernel.invokeFunction(\n",
              "            'suggestCharts', [key], {});\n",
              "      } catch (error) {\n",
              "        console.error('Error during call to suggestCharts:', error);\n",
              "      }\n",
              "      quickchartButtonEl.classList.remove('colab-df-spinner');\n",
              "      quickchartButtonEl.classList.add('colab-df-quickchart-complete');\n",
              "    }\n",
              "    (() => {\n",
              "      let quickchartButtonEl =\n",
              "        document.querySelector('#df-f222011e-561f-44d8-ad5e-ceffd12d8c69 button');\n",
              "      quickchartButtonEl.style.display =\n",
              "        google.colab.kernel.accessAllowed ? 'block' : 'none';\n",
              "    })();\n",
              "  </script>\n",
              "</div>\n",
              "\n",
              "    </div>\n",
              "  </div>\n"
            ]
          },
          "metadata": {},
          "execution_count": 6
        }
      ]
    },
    {
      "cell_type": "code",
      "source": [
        "df.describe()"
      ],
      "metadata": {
        "colab": {
          "base_uri": "https://localhost:8080/",
          "height": 330
        },
        "id": "kglXaTnWtswc",
        "outputId": "e4ea7246-3b57-4be0-95b7-3d3195eccd96"
      },
      "execution_count": 7,
      "outputs": [
        {
          "output_type": "execute_result",
          "data": {
            "text/plain": [
              "             labels        1        2        3        4        5        6  \\\n",
              "count  29900.000000  29900.0  29900.0  29900.0  29900.0  29900.0  29900.0   \n",
              "mean       4.500000      0.0      0.0      0.0      0.0      0.0      0.0   \n",
              "std        2.872329      0.0      0.0      0.0      0.0      0.0      0.0   \n",
              "min        0.000000      0.0      0.0      0.0      0.0      0.0      0.0   \n",
              "25%        2.000000      0.0      0.0      0.0      0.0      0.0      0.0   \n",
              "50%        4.500000      0.0      0.0      0.0      0.0      0.0      0.0   \n",
              "75%        7.000000      0.0      0.0      0.0      0.0      0.0      0.0   \n",
              "max        9.000000      0.0      0.0      0.0      0.0      0.0      0.0   \n",
              "\n",
              "             7        8        9  ...           775           776      777  \\\n",
              "count  29900.0  29900.0  29900.0  ...  29900.000000  29900.000000  29900.0   \n",
              "mean       0.0      0.0      0.0  ...      0.003445      0.000033      0.0   \n",
              "std        0.0      0.0      0.0  ...      0.493058      0.005783      0.0   \n",
              "min        0.0      0.0      0.0  ...      0.000000      0.000000      0.0   \n",
              "25%        0.0      0.0      0.0  ...      0.000000      0.000000      0.0   \n",
              "50%        0.0      0.0      0.0  ...      0.000000      0.000000      0.0   \n",
              "75%        0.0      0.0      0.0  ...      0.000000      0.000000      0.0   \n",
              "max        0.0      0.0      0.0  ...     84.000000      1.000000      0.0   \n",
              "\n",
              "           778      779      780      781      782      783      784  \n",
              "count  29900.0  29900.0  29900.0  29900.0  29900.0  29900.0  29900.0  \n",
              "mean       0.0      0.0      0.0      0.0      0.0      0.0      0.0  \n",
              "std        0.0      0.0      0.0      0.0      0.0      0.0      0.0  \n",
              "min        0.0      0.0      0.0      0.0      0.0      0.0      0.0  \n",
              "25%        0.0      0.0      0.0      0.0      0.0      0.0      0.0  \n",
              "50%        0.0      0.0      0.0      0.0      0.0      0.0      0.0  \n",
              "75%        0.0      0.0      0.0      0.0      0.0      0.0      0.0  \n",
              "max        0.0      0.0      0.0      0.0      0.0      0.0      0.0  \n",
              "\n",
              "[8 rows x 785 columns]"
            ],
            "text/html": [
              "\n",
              "  <div id=\"df-0213fe12-f8e9-4f88-be70-232e5eff9aff\" class=\"colab-df-container\">\n",
              "    <div>\n",
              "<style scoped>\n",
              "    .dataframe tbody tr th:only-of-type {\n",
              "        vertical-align: middle;\n",
              "    }\n",
              "\n",
              "    .dataframe tbody tr th {\n",
              "        vertical-align: top;\n",
              "    }\n",
              "\n",
              "    .dataframe thead th {\n",
              "        text-align: right;\n",
              "    }\n",
              "</style>\n",
              "<table border=\"1\" class=\"dataframe\">\n",
              "  <thead>\n",
              "    <tr style=\"text-align: right;\">\n",
              "      <th></th>\n",
              "      <th>labels</th>\n",
              "      <th>1</th>\n",
              "      <th>2</th>\n",
              "      <th>3</th>\n",
              "      <th>4</th>\n",
              "      <th>5</th>\n",
              "      <th>6</th>\n",
              "      <th>7</th>\n",
              "      <th>8</th>\n",
              "      <th>9</th>\n",
              "      <th>...</th>\n",
              "      <th>775</th>\n",
              "      <th>776</th>\n",
              "      <th>777</th>\n",
              "      <th>778</th>\n",
              "      <th>779</th>\n",
              "      <th>780</th>\n",
              "      <th>781</th>\n",
              "      <th>782</th>\n",
              "      <th>783</th>\n",
              "      <th>784</th>\n",
              "    </tr>\n",
              "  </thead>\n",
              "  <tbody>\n",
              "    <tr>\n",
              "      <th>count</th>\n",
              "      <td>29900.000000</td>\n",
              "      <td>29900.0</td>\n",
              "      <td>29900.0</td>\n",
              "      <td>29900.0</td>\n",
              "      <td>29900.0</td>\n",
              "      <td>29900.0</td>\n",
              "      <td>29900.0</td>\n",
              "      <td>29900.0</td>\n",
              "      <td>29900.0</td>\n",
              "      <td>29900.0</td>\n",
              "      <td>...</td>\n",
              "      <td>29900.000000</td>\n",
              "      <td>29900.000000</td>\n",
              "      <td>29900.0</td>\n",
              "      <td>29900.0</td>\n",
              "      <td>29900.0</td>\n",
              "      <td>29900.0</td>\n",
              "      <td>29900.0</td>\n",
              "      <td>29900.0</td>\n",
              "      <td>29900.0</td>\n",
              "      <td>29900.0</td>\n",
              "    </tr>\n",
              "    <tr>\n",
              "      <th>mean</th>\n",
              "      <td>4.500000</td>\n",
              "      <td>0.0</td>\n",
              "      <td>0.0</td>\n",
              "      <td>0.0</td>\n",
              "      <td>0.0</td>\n",
              "      <td>0.0</td>\n",
              "      <td>0.0</td>\n",
              "      <td>0.0</td>\n",
              "      <td>0.0</td>\n",
              "      <td>0.0</td>\n",
              "      <td>...</td>\n",
              "      <td>0.003445</td>\n",
              "      <td>0.000033</td>\n",
              "      <td>0.0</td>\n",
              "      <td>0.0</td>\n",
              "      <td>0.0</td>\n",
              "      <td>0.0</td>\n",
              "      <td>0.0</td>\n",
              "      <td>0.0</td>\n",
              "      <td>0.0</td>\n",
              "      <td>0.0</td>\n",
              "    </tr>\n",
              "    <tr>\n",
              "      <th>std</th>\n",
              "      <td>2.872329</td>\n",
              "      <td>0.0</td>\n",
              "      <td>0.0</td>\n",
              "      <td>0.0</td>\n",
              "      <td>0.0</td>\n",
              "      <td>0.0</td>\n",
              "      <td>0.0</td>\n",
              "      <td>0.0</td>\n",
              "      <td>0.0</td>\n",
              "      <td>0.0</td>\n",
              "      <td>...</td>\n",
              "      <td>0.493058</td>\n",
              "      <td>0.005783</td>\n",
              "      <td>0.0</td>\n",
              "      <td>0.0</td>\n",
              "      <td>0.0</td>\n",
              "      <td>0.0</td>\n",
              "      <td>0.0</td>\n",
              "      <td>0.0</td>\n",
              "      <td>0.0</td>\n",
              "      <td>0.0</td>\n",
              "    </tr>\n",
              "    <tr>\n",
              "      <th>min</th>\n",
              "      <td>0.000000</td>\n",
              "      <td>0.0</td>\n",
              "      <td>0.0</td>\n",
              "      <td>0.0</td>\n",
              "      <td>0.0</td>\n",
              "      <td>0.0</td>\n",
              "      <td>0.0</td>\n",
              "      <td>0.0</td>\n",
              "      <td>0.0</td>\n",
              "      <td>0.0</td>\n",
              "      <td>...</td>\n",
              "      <td>0.000000</td>\n",
              "      <td>0.000000</td>\n",
              "      <td>0.0</td>\n",
              "      <td>0.0</td>\n",
              "      <td>0.0</td>\n",
              "      <td>0.0</td>\n",
              "      <td>0.0</td>\n",
              "      <td>0.0</td>\n",
              "      <td>0.0</td>\n",
              "      <td>0.0</td>\n",
              "    </tr>\n",
              "    <tr>\n",
              "      <th>25%</th>\n",
              "      <td>2.000000</td>\n",
              "      <td>0.0</td>\n",
              "      <td>0.0</td>\n",
              "      <td>0.0</td>\n",
              "      <td>0.0</td>\n",
              "      <td>0.0</td>\n",
              "      <td>0.0</td>\n",
              "      <td>0.0</td>\n",
              "      <td>0.0</td>\n",
              "      <td>0.0</td>\n",
              "      <td>...</td>\n",
              "      <td>0.000000</td>\n",
              "      <td>0.000000</td>\n",
              "      <td>0.0</td>\n",
              "      <td>0.0</td>\n",
              "      <td>0.0</td>\n",
              "      <td>0.0</td>\n",
              "      <td>0.0</td>\n",
              "      <td>0.0</td>\n",
              "      <td>0.0</td>\n",
              "      <td>0.0</td>\n",
              "    </tr>\n",
              "    <tr>\n",
              "      <th>50%</th>\n",
              "      <td>4.500000</td>\n",
              "      <td>0.0</td>\n",
              "      <td>0.0</td>\n",
              "      <td>0.0</td>\n",
              "      <td>0.0</td>\n",
              "      <td>0.0</td>\n",
              "      <td>0.0</td>\n",
              "      <td>0.0</td>\n",
              "      <td>0.0</td>\n",
              "      <td>0.0</td>\n",
              "      <td>...</td>\n",
              "      <td>0.000000</td>\n",
              "      <td>0.000000</td>\n",
              "      <td>0.0</td>\n",
              "      <td>0.0</td>\n",
              "      <td>0.0</td>\n",
              "      <td>0.0</td>\n",
              "      <td>0.0</td>\n",
              "      <td>0.0</td>\n",
              "      <td>0.0</td>\n",
              "      <td>0.0</td>\n",
              "    </tr>\n",
              "    <tr>\n",
              "      <th>75%</th>\n",
              "      <td>7.000000</td>\n",
              "      <td>0.0</td>\n",
              "      <td>0.0</td>\n",
              "      <td>0.0</td>\n",
              "      <td>0.0</td>\n",
              "      <td>0.0</td>\n",
              "      <td>0.0</td>\n",
              "      <td>0.0</td>\n",
              "      <td>0.0</td>\n",
              "      <td>0.0</td>\n",
              "      <td>...</td>\n",
              "      <td>0.000000</td>\n",
              "      <td>0.000000</td>\n",
              "      <td>0.0</td>\n",
              "      <td>0.0</td>\n",
              "      <td>0.0</td>\n",
              "      <td>0.0</td>\n",
              "      <td>0.0</td>\n",
              "      <td>0.0</td>\n",
              "      <td>0.0</td>\n",
              "      <td>0.0</td>\n",
              "    </tr>\n",
              "    <tr>\n",
              "      <th>max</th>\n",
              "      <td>9.000000</td>\n",
              "      <td>0.0</td>\n",
              "      <td>0.0</td>\n",
              "      <td>0.0</td>\n",
              "      <td>0.0</td>\n",
              "      <td>0.0</td>\n",
              "      <td>0.0</td>\n",
              "      <td>0.0</td>\n",
              "      <td>0.0</td>\n",
              "      <td>0.0</td>\n",
              "      <td>...</td>\n",
              "      <td>84.000000</td>\n",
              "      <td>1.000000</td>\n",
              "      <td>0.0</td>\n",
              "      <td>0.0</td>\n",
              "      <td>0.0</td>\n",
              "      <td>0.0</td>\n",
              "      <td>0.0</td>\n",
              "      <td>0.0</td>\n",
              "      <td>0.0</td>\n",
              "      <td>0.0</td>\n",
              "    </tr>\n",
              "  </tbody>\n",
              "</table>\n",
              "<p>8 rows × 785 columns</p>\n",
              "</div>\n",
              "    <div class=\"colab-df-buttons\">\n",
              "\n",
              "  <div class=\"colab-df-container\">\n",
              "    <button class=\"colab-df-convert\" onclick=\"convertToInteractive('df-0213fe12-f8e9-4f88-be70-232e5eff9aff')\"\n",
              "            title=\"Convert this dataframe to an interactive table.\"\n",
              "            style=\"display:none;\">\n",
              "\n",
              "  <svg xmlns=\"http://www.w3.org/2000/svg\" height=\"24px\" viewBox=\"0 -960 960 960\">\n",
              "    <path d=\"M120-120v-720h720v720H120Zm60-500h600v-160H180v160Zm220 220h160v-160H400v160Zm0 220h160v-160H400v160ZM180-400h160v-160H180v160Zm440 0h160v-160H620v160ZM180-180h160v-160H180v160Zm440 0h160v-160H620v160Z\"/>\n",
              "  </svg>\n",
              "    </button>\n",
              "\n",
              "  <style>\n",
              "    .colab-df-container {\n",
              "      display:flex;\n",
              "      gap: 12px;\n",
              "    }\n",
              "\n",
              "    .colab-df-convert {\n",
              "      background-color: #E8F0FE;\n",
              "      border: none;\n",
              "      border-radius: 50%;\n",
              "      cursor: pointer;\n",
              "      display: none;\n",
              "      fill: #1967D2;\n",
              "      height: 32px;\n",
              "      padding: 0 0 0 0;\n",
              "      width: 32px;\n",
              "    }\n",
              "\n",
              "    .colab-df-convert:hover {\n",
              "      background-color: #E2EBFA;\n",
              "      box-shadow: 0px 1px 2px rgba(60, 64, 67, 0.3), 0px 1px 3px 1px rgba(60, 64, 67, 0.15);\n",
              "      fill: #174EA6;\n",
              "    }\n",
              "\n",
              "    .colab-df-buttons div {\n",
              "      margin-bottom: 4px;\n",
              "    }\n",
              "\n",
              "    [theme=dark] .colab-df-convert {\n",
              "      background-color: #3B4455;\n",
              "      fill: #D2E3FC;\n",
              "    }\n",
              "\n",
              "    [theme=dark] .colab-df-convert:hover {\n",
              "      background-color: #434B5C;\n",
              "      box-shadow: 0px 1px 3px 1px rgba(0, 0, 0, 0.15);\n",
              "      filter: drop-shadow(0px 1px 2px rgba(0, 0, 0, 0.3));\n",
              "      fill: #FFFFFF;\n",
              "    }\n",
              "  </style>\n",
              "\n",
              "    <script>\n",
              "      const buttonEl =\n",
              "        document.querySelector('#df-0213fe12-f8e9-4f88-be70-232e5eff9aff button.colab-df-convert');\n",
              "      buttonEl.style.display =\n",
              "        google.colab.kernel.accessAllowed ? 'block' : 'none';\n",
              "\n",
              "      async function convertToInteractive(key) {\n",
              "        const element = document.querySelector('#df-0213fe12-f8e9-4f88-be70-232e5eff9aff');\n",
              "        const dataTable =\n",
              "          await google.colab.kernel.invokeFunction('convertToInteractive',\n",
              "                                                    [key], {});\n",
              "        if (!dataTable) return;\n",
              "\n",
              "        const docLinkHtml = 'Like what you see? Visit the ' +\n",
              "          '<a target=\"_blank\" href=https://colab.research.google.com/notebooks/data_table.ipynb>data table notebook</a>'\n",
              "          + ' to learn more about interactive tables.';\n",
              "        element.innerHTML = '';\n",
              "        dataTable['output_type'] = 'display_data';\n",
              "        await google.colab.output.renderOutput(dataTable, element);\n",
              "        const docLink = document.createElement('div');\n",
              "        docLink.innerHTML = docLinkHtml;\n",
              "        element.appendChild(docLink);\n",
              "      }\n",
              "    </script>\n",
              "  </div>\n",
              "\n",
              "\n",
              "<div id=\"df-b8bf3a65-f80a-4a8d-9e3b-04714fb19d3a\">\n",
              "  <button class=\"colab-df-quickchart\" onclick=\"quickchart('df-b8bf3a65-f80a-4a8d-9e3b-04714fb19d3a')\"\n",
              "            title=\"Suggest charts\"\n",
              "            style=\"display:none;\">\n",
              "\n",
              "<svg xmlns=\"http://www.w3.org/2000/svg\" height=\"24px\"viewBox=\"0 0 24 24\"\n",
              "     width=\"24px\">\n",
              "    <g>\n",
              "        <path d=\"M19 3H5c-1.1 0-2 .9-2 2v14c0 1.1.9 2 2 2h14c1.1 0 2-.9 2-2V5c0-1.1-.9-2-2-2zM9 17H7v-7h2v7zm4 0h-2V7h2v10zm4 0h-2v-4h2v4z\"/>\n",
              "    </g>\n",
              "</svg>\n",
              "  </button>\n",
              "\n",
              "<style>\n",
              "  .colab-df-quickchart {\n",
              "      --bg-color: #E8F0FE;\n",
              "      --fill-color: #1967D2;\n",
              "      --hover-bg-color: #E2EBFA;\n",
              "      --hover-fill-color: #174EA6;\n",
              "      --disabled-fill-color: #AAA;\n",
              "      --disabled-bg-color: #DDD;\n",
              "  }\n",
              "\n",
              "  [theme=dark] .colab-df-quickchart {\n",
              "      --bg-color: #3B4455;\n",
              "      --fill-color: #D2E3FC;\n",
              "      --hover-bg-color: #434B5C;\n",
              "      --hover-fill-color: #FFFFFF;\n",
              "      --disabled-bg-color: #3B4455;\n",
              "      --disabled-fill-color: #666;\n",
              "  }\n",
              "\n",
              "  .colab-df-quickchart {\n",
              "    background-color: var(--bg-color);\n",
              "    border: none;\n",
              "    border-radius: 50%;\n",
              "    cursor: pointer;\n",
              "    display: none;\n",
              "    fill: var(--fill-color);\n",
              "    height: 32px;\n",
              "    padding: 0;\n",
              "    width: 32px;\n",
              "  }\n",
              "\n",
              "  .colab-df-quickchart:hover {\n",
              "    background-color: var(--hover-bg-color);\n",
              "    box-shadow: 0 1px 2px rgba(60, 64, 67, 0.3), 0 1px 3px 1px rgba(60, 64, 67, 0.15);\n",
              "    fill: var(--button-hover-fill-color);\n",
              "  }\n",
              "\n",
              "  .colab-df-quickchart-complete:disabled,\n",
              "  .colab-df-quickchart-complete:disabled:hover {\n",
              "    background-color: var(--disabled-bg-color);\n",
              "    fill: var(--disabled-fill-color);\n",
              "    box-shadow: none;\n",
              "  }\n",
              "\n",
              "  .colab-df-spinner {\n",
              "    border: 2px solid var(--fill-color);\n",
              "    border-color: transparent;\n",
              "    border-bottom-color: var(--fill-color);\n",
              "    animation:\n",
              "      spin 1s steps(1) infinite;\n",
              "  }\n",
              "\n",
              "  @keyframes spin {\n",
              "    0% {\n",
              "      border-color: transparent;\n",
              "      border-bottom-color: var(--fill-color);\n",
              "      border-left-color: var(--fill-color);\n",
              "    }\n",
              "    20% {\n",
              "      border-color: transparent;\n",
              "      border-left-color: var(--fill-color);\n",
              "      border-top-color: var(--fill-color);\n",
              "    }\n",
              "    30% {\n",
              "      border-color: transparent;\n",
              "      border-left-color: var(--fill-color);\n",
              "      border-top-color: var(--fill-color);\n",
              "      border-right-color: var(--fill-color);\n",
              "    }\n",
              "    40% {\n",
              "      border-color: transparent;\n",
              "      border-right-color: var(--fill-color);\n",
              "      border-top-color: var(--fill-color);\n",
              "    }\n",
              "    60% {\n",
              "      border-color: transparent;\n",
              "      border-right-color: var(--fill-color);\n",
              "    }\n",
              "    80% {\n",
              "      border-color: transparent;\n",
              "      border-right-color: var(--fill-color);\n",
              "      border-bottom-color: var(--fill-color);\n",
              "    }\n",
              "    90% {\n",
              "      border-color: transparent;\n",
              "      border-bottom-color: var(--fill-color);\n",
              "    }\n",
              "  }\n",
              "</style>\n",
              "\n",
              "  <script>\n",
              "    async function quickchart(key) {\n",
              "      const quickchartButtonEl =\n",
              "        document.querySelector('#' + key + ' button');\n",
              "      quickchartButtonEl.disabled = true;  // To prevent multiple clicks.\n",
              "      quickchartButtonEl.classList.add('colab-df-spinner');\n",
              "      try {\n",
              "        const charts = await google.colab.kernel.invokeFunction(\n",
              "            'suggestCharts', [key], {});\n",
              "      } catch (error) {\n",
              "        console.error('Error during call to suggestCharts:', error);\n",
              "      }\n",
              "      quickchartButtonEl.classList.remove('colab-df-spinner');\n",
              "      quickchartButtonEl.classList.add('colab-df-quickchart-complete');\n",
              "    }\n",
              "    (() => {\n",
              "      let quickchartButtonEl =\n",
              "        document.querySelector('#df-b8bf3a65-f80a-4a8d-9e3b-04714fb19d3a button');\n",
              "      quickchartButtonEl.style.display =\n",
              "        google.colab.kernel.accessAllowed ? 'block' : 'none';\n",
              "    })();\n",
              "  </script>\n",
              "</div>\n",
              "\n",
              "    </div>\n",
              "  </div>\n"
            ]
          },
          "metadata": {},
          "execution_count": 7
        }
      ]
    },
    {
      "cell_type": "code",
      "source": [
        "df.columns"
      ],
      "metadata": {
        "colab": {
          "base_uri": "https://localhost:8080/"
        },
        "id": "Rn4gocOMtKj-",
        "outputId": "fc392459-8e45-422a-c1e8-0bcd8faba29b"
      },
      "execution_count": 8,
      "outputs": [
        {
          "output_type": "execute_result",
          "data": {
            "text/plain": [
              "Index(['names', 'labels', '1', '2', '3', '4', '5', '6', '7', '8',\n",
              "       ...\n",
              "       '775', '776', '777', '778', '779', '780', '781', '782', '783', '784'],\n",
              "      dtype='object', length=786)"
            ]
          },
          "metadata": {},
          "execution_count": 8
        }
      ]
    },
    {
      "cell_type": "code",
      "source": [
        "# Split input and target variables\n",
        "X = df.drop(columns=['names','labels']).values\n",
        "y = df[['labels']].values"
      ],
      "metadata": {
        "id": "f2ZIIvssPT5T"
      },
      "execution_count": 9,
      "outputs": []
    },
    {
      "cell_type": "markdown",
      "source": [
        "Print shape of X and y to get idea of the data"
      ],
      "metadata": {
        "id": "1hGzR4OWl3Vd"
      }
    },
    {
      "cell_type": "code",
      "source": [
        "X.shape"
      ],
      "metadata": {
        "colab": {
          "base_uri": "https://localhost:8080/"
        },
        "id": "7M8MCBZHPY13",
        "outputId": "3a8329f2-3203-4679-ac7f-9c9c7dee0533"
      },
      "execution_count": 10,
      "outputs": [
        {
          "output_type": "execute_result",
          "data": {
            "text/plain": [
              "(29900, 784)"
            ]
          },
          "metadata": {},
          "execution_count": 10
        }
      ]
    },
    {
      "cell_type": "code",
      "source": [
        "y.shape"
      ],
      "metadata": {
        "colab": {
          "base_uri": "https://localhost:8080/"
        },
        "id": "kbk5H_sGPjDp",
        "outputId": "15179437-026f-464f-def5-1f67ae040edf"
      },
      "execution_count": 11,
      "outputs": [
        {
          "output_type": "execute_result",
          "data": {
            "text/plain": [
              "(29900, 1)"
            ]
          },
          "metadata": {},
          "execution_count": 11
        }
      ]
    },
    {
      "cell_type": "code",
      "source": [
        "# Splitting into train and test sets\n",
        "X_train, X_test, y_train, y_test = train_test_split(X, y, test_size=0.2, random_state=42)"
      ],
      "metadata": {
        "id": "Dvyrckgvs3ME"
      },
      "execution_count": 12,
      "outputs": []
    },
    {
      "cell_type": "code",
      "source": [
        "# Reshape y\n",
        "y_train = y_train.reshape((-1,))\n",
        "y_test = y_test.reshape((-1,))"
      ],
      "metadata": {
        "id": "srxonTRGtlg9"
      },
      "execution_count": 13,
      "outputs": []
    },
    {
      "cell_type": "code",
      "source": [
        "# Scaling data bringing the values between 0 to 1\n",
        "X_train = X_train/255\n",
        "X_test = X_test/255"
      ],
      "metadata": {
        "id": "ZDZDCaygzkpG"
      },
      "execution_count": 14,
      "outputs": []
    },
    {
      "cell_type": "code",
      "source": [
        "# Reshape images to 28x28\n",
        "X_train = X_train.reshape(-1, 28, 28, 1)\n",
        "X_test = X_test.reshape(-1, 28, 28, 1)"
      ],
      "metadata": {
        "id": "_AKPU1RTQOxE"
      },
      "execution_count": 15,
      "outputs": []
    },
    {
      "cell_type": "code",
      "source": [
        "# Use OneHotEncoder to encode target column\n",
        "y_train_e = to_categorical(y_train, num_classes=10)\n",
        "y_test_e = to_categorical(y_test, num_classes=10)"
      ],
      "metadata": {
        "id": "3VaGcjLKYa5G"
      },
      "execution_count": 16,
      "outputs": []
    },
    {
      "cell_type": "markdown",
      "source": [
        "# Data Visualization"
      ],
      "metadata": {
        "id": "-J7wJExpZc4T"
      }
    },
    {
      "cell_type": "code",
      "source": [
        "# Bar chart with labels and color gradient\n",
        "fig, (ax1, ax2) = plt.subplots(1,2,figsize=(10,6))\n",
        "\n",
        "unique_train, counts_train = np.unique(y_train, return_counts=True)\n",
        "unique_test, counts_test = np.unique(y_test, return_counts=True)\n",
        "\n",
        "ax = sns.barplot(x=unique_train, y=counts_train, palette=\"viridis\", ax = ax1)\n",
        "ax = sns.barplot(x=unique_test, y=counts_test, palette=\"viridis\", ax = ax2)\n",
        "\n",
        "# labeling the pliot\n",
        "ax1.set_xlabel('Label')\n",
        "ax1.set_ylabel('Count')\n",
        "ax1.set_title('Train Data')\n",
        "\n",
        "ax2.set_xlabel('Label')\n",
        "ax2.set_ylabel('Count')\n",
        "ax2.set_title('Test Data')\n",
        "\n",
        "# Show the plot\n",
        "plt.show()"
      ],
      "metadata": {
        "colab": {
          "base_uri": "https://localhost:8080/",
          "height": 564
        },
        "id": "ZaZKEeQPkxbj",
        "outputId": "fb5f203c-2625-4720-a2b8-11108393b428"
      },
      "execution_count": 17,
      "outputs": [
        {
          "output_type": "display_data",
          "data": {
            "text/plain": [
              "<Figure size 1000x600 with 2 Axes>"
            ],
            "image/png": "[encoded data removed]"
          },
          "metadata": {}
        }
      ]
    },
    {
      "cell_type": "markdown",
      "source": [
        "Inference:\n",
        "\n",
        "* We can observe that the there are 3000 data points for each label in the entire data and their distribution in Test, Train.\n",
        "* They seem to be distributes evenly without any Bias in the data"
      ],
      "metadata": {
        "id": "HIDRH9IAnahA"
      }
    },
    {
      "cell_type": "code",
      "source": [
        "first_9_digits = X_train[0:9]"
      ],
      "metadata": {
        "id": "oJn5tVyT80sz"
      },
      "execution_count": 18,
      "outputs": []
    },
    {
      "cell_type": "code",
      "source": [
        "# Plotting a images\n",
        "fig, ax = plt.subplots(3,3,figsize=(10,6))\n",
        "\n",
        "ax[0,0].imshow(first_9_digits[0], cmap = matplotlib.cm.binary, interpolation = 'nearest')\n",
        "ax[0,1].imshow(first_9_digits[1], cmap = matplotlib.cm.binary, interpolation = 'nearest')\n",
        "ax[0,2].imshow(first_9_digits[2], cmap = matplotlib.cm.binary, interpolation = 'nearest')\n",
        "ax[1,0].imshow(first_9_digits[3], cmap = matplotlib.cm.binary, interpolation = 'nearest')\n",
        "ax[1,1].imshow(first_9_digits[4], cmap = matplotlib.cm.binary, interpolation = 'nearest')\n",
        "ax[1,2].imshow(first_9_digits[5], cmap = matplotlib.cm.binary, interpolation = 'nearest')\n",
        "ax[2,0].imshow(first_9_digits[6], cmap = matplotlib.cm.binary, interpolation = 'nearest')\n",
        "ax[2,1].imshow(first_9_digits[7], cmap = matplotlib.cm.binary, interpolation = 'nearest')\n",
        "ax[2,2].imshow(first_9_digits[8], cmap = matplotlib.cm.binary, interpolation = 'nearest')"
      ],
      "metadata": {
        "colab": {
          "base_uri": "https://localhost:8080/",
          "height": 542
        },
        "id": "lFTg6hSt8ygA",
        "outputId": "7668351c-6a37-40d7-cf31-d250b559fa07"
      },
      "execution_count": 19,
      "outputs": [
        {
          "output_type": "execute_result",
          "data": {
            "text/plain": [
              "<matplotlib.image.AxesImage at 0x7df7dd319d20>"
            ]
          },
          "metadata": {},
          "execution_count": 19
        },
        {
          "output_type": "display_data",
          "data": {
            "text/plain": [
              "<Figure size 1000x600 with 9 Axes>"
            ],
            "image/png": "[encoded data removed]"
          },
          "metadata": {}
        }
      ]
    },
    {
      "cell_type": "markdown",
      "source": [
        "### Plot of first 9 (28x28) digits in the training data"
      ],
      "metadata": {
        "id": "xFsDvFke9_O0"
      }
    },
    {
      "cell_type": "markdown",
      "source": [
        " # CNN\n",
        "\n",
        " Defines a Convolutional Neural Network (CNN) for classification"
      ],
      "metadata": {
        "id": "18TpxQlZkbKk"
      }
    },
    {
      "cell_type": "code",
      "source": [
        "# CNN Model with layers\n",
        "cnnModel = Sequential([\n",
        "    Conv2D(32, (3, 3), activation='relu', input_shape=(28, 28, 1)), # Convolutional layer with 32 output\n",
        "\n",
        "    Conv2D(32, (3, 3), activation='relu'), # Convolutional layer with 32 output channels\n",
        "\n",
        "    MaxPooling2D((2,2)), # Max pooling layer to reduce the spatial dimensions\n",
        "\n",
        "    Conv2D(64, (3, 3), activation='relu'),  # Convolutional layer with 64 output channels\n",
        "\n",
        "    Conv2D(64, (3, 3), activation='relu'),  # Another convolutional layer with 64 output channels\n",
        "\n",
        "    MaxPooling2D((2,2)),  # Max pooling layer to reduce the spatial dimensions\n",
        "\n",
        "    Flatten(), # Flatten the output for input to fully connected layers\n",
        "\n",
        "    Dropout(0.5),  # Dropout layer to prevent overfitting\n",
        "\n",
        "    Dense(512, activation='relu'),  # Another fully connected layer with 512 output units\n",
        "\n",
        "    Dropout(0.5), # Dropout layer to prevent overfitting\n",
        "\n",
        "    Dense(10, activation='softmax')  # Final fully connected layer with 10 output units (corresponding to classes)\n",
        "\n",
        "])"
      ],
      "metadata": {
        "id": "FbozyjZHka72"
      },
      "execution_count": 43,
      "outputs": []
    },
    {
      "cell_type": "markdown",
      "source": [
        "### Model Working\n",
        "\n",
        "1. **Convolutional Layers**:\n",
        "   - `Conv2D(32, (3, 3), activation='relu', input_shape=(28, 28, 1))`: First convolutional layer with 32 filters, each using a 3x3 kernel, ReLU activation function, and an input shape of (28, 28, 1) representing grayscale images.\n",
        "   - `Conv2D(32, (3, 3), activation='relu')`: Second convolutional layer with 32 filters and ReLU activation.\n",
        "   - `Conv2D(64, (3, 3), activation='relu')`: Third convolutional layer with 64 filters and ReLU activation.\n",
        "   - `Conv2D(64, (3, 3), activation='relu')`: Fourth convolutional layer with 64 filters and ReLU activation.\n",
        "\n",
        "2. **Pooling Layers**:\n",
        "   - `MaxPooling2D((2, 2))`: Max pooling layers to reduce spatial dimensions by half after certain convolutional layers.\n",
        "\n",
        "3. **Flatten Layer**:\n",
        "   - `Flatten()`: Layer to flatten the output of the convolutional layers into a 1D array for input to the fully connected layers.\n",
        "\n",
        "4. **Dropout Layers**:\n",
        "   - `Dropout(0.5)`: Dropout layers with a dropout rate of 0.5, intended to prevent overfitting by randomly dropping 50% of input units during training.\n",
        "\n",
        "5. **Dense (Fully Connected) Layers**:\n",
        "   - `Dense(512, activation='relu')`: Fully connected layer with 512 neurons and ReLU activation.\n",
        "   - `Dense(10, activation='softmax')`: Final fully connected layer with 10 neurons, representing classes in the dataset, and using softmax activation for multi-class classification."
      ],
      "metadata": {
        "id": "q5iQ5RytpJMk"
      }
    },
    {
      "cell_type": "code",
      "source": [
        "# specifying optimizer, loss function, and metrics\n",
        "cnnModel.compile(optimizer='adam', loss='categorical_crossentropy', metrics=['accuracy'])"
      ],
      "metadata": {
        "id": "xoWgVPiKF5NX"
      },
      "execution_count": 44,
      "outputs": []
    },
    {
      "cell_type": "code",
      "source": [
        "plot_model(cnnModel, to_file='model_graph.png', show_shapes=True, show_layer_names=True)"
      ],
      "metadata": {
        "colab": {
          "base_uri": "https://localhost:8080/",
          "height": 1000
        },
        "id": "5m56pf2ulFHU",
        "outputId": "56017934-661a-44b2-ca92-45f81e23a35c"
      },
      "execution_count": 56,
      "outputs": [
        {
          "output_type": "execute_result",
          "data": {
            "image/png": "[encoded data removed]",
            "text/plain": [
              "<IPython.core.display.Image object>"
            ]
          },
          "metadata": {},
          "execution_count": 56
        }
      ]
    },
    {
      "cell_type": "markdown",
      "source": [
        "1. **First Convolutional Layer (`conv2d_12`):**\n",
        "   - This layer uses a Conv2D operation with 32 output filters, a kernel size of (3, 3), and presumably a 'same' padding (since the output size reduces from 28x28 to 26x26). It has 320 parameters, which are the weights and biases for the filters applied to the input image.\n",
        "\n",
        "2. **Second Convolutional Layer (`conv2d_13`):**\n",
        "   - Another Conv2D layer follows up with 32 filters of size (3, 3). It processes the result of the previous layer, further reducing the output shape to 24x24 and involving 9,248 parameters, which indicates more feature extraction from the input provided by the first layer.\n",
        "\n",
        "3. **First Max Pooling Layer (`max_pooling2d_6`):**\n",
        "   - This layer applies max pooling with a pool size of (2, 2), reducing the spatial dimensions by half (to 12x12). Max pooling helps to make the representation smaller and more manageable and introduces translational invariance by boiling down the outputs of the convolutional layers to their most essential elements.\n",
        "\n",
        "4. **Third Convolutional Layer (`conv2d_14`):**\n",
        "   - With a bump-up in filter count to 64 and a (3, 3) kernel, this Conv2D layer processes the pooled data, resulting in a 10x10 feature map and having 18,496 parameters.\n",
        "\n",
        "5. **Fourth Convolutional Layer (`conv2d_15`):**\n",
        "   - Another Conv2D layer with 64 filters maintains the progression of feature extraction, leaving an 8x8 output and involving 36,928 parameters.\n",
        "\n",
        "6. **Second Max Pooling Layer (`max_pooling2d_7`):**\n",
        "   - The max pooling operation is applied once again, further reducing the spatial dimension to 4x4.\n",
        "\n",
        "7. **Flatten Layer (`flatten_3`):**\n",
        "   - Post the convolutions and subsampling, the Flatten layer is used to convert the 2D feature maps into a 1D vector (flat array) of 1024 elements, enabling the data to be fed into the dense layers that follow.\n",
        "\n",
        "8. **Dropout Layer (`dropout_6`):**\n",
        "   - To help prevent overfitting, a Dropout layer is included which randomly sets input units (neurons) to 0 at a rate of 0.5 during training.\n",
        "\n",
        "9. **First Dense Layer (`dense_6`):**\n",
        "   - This fully connected layer has 512 units with ReLU activation and is responsible for the high-level reasoning in the neural network, involving 524,800 parameters, suggesting a complex layer with many learned weights.\n",
        "\n",
        "10. **Dropout Layer (`dropout_7`):**\n",
        "    - The second Dropout layer continues to aid in preventing overfitting, applying the same disabling of neurons during training.\n",
        "\n",
        "11. **Output Layer (`dense_7`):**\n",
        "    - The final layer is a dense layer with 10 units and a softmax activation function, which is standard for multi-class classification problems, such as distinguishing between 10 different classes. It has 5,130 parameters."
      ],
      "metadata": {
        "id": "Dypw57fmqgXA"
      }
    },
    {
      "cell_type": "code",
      "source": [
        "modelHistory = cnnModel.fit(X_train, y_train_e, epochs=10, batch_size=16, validation_split=0.2)"
      ],
      "metadata": {
        "colab": {
          "base_uri": "https://localhost:8080/"
        },
        "id": "2Wbm6lVKL4WJ",
        "outputId": "a758fe30-74f9-4497-fb9a-48ee6eb782f1"
      },
      "execution_count": 46,
      "outputs": [
        {
          "output_type": "stream",
          "name": "stdout",
          "text": [
            "Epoch 1/10\n",
            "1196/1196 [==============================] - 66s 54ms/step - loss: 0.2108 - accuracy: 0.9328 - val_loss: 0.0552 - val_accuracy: 0.9820\n",
            "Epoch 2/10\n",
            "1196/1196 [==============================] - 68s 57ms/step - loss: 0.0635 - accuracy: 0.9813 - val_loss: 0.0436 - val_accuracy: 0.9872\n",
            "Epoch 3/10\n",
            "1196/1196 [==============================] - 76s 63ms/step - loss: 0.0479 - accuracy: 0.9854 - val_loss: 0.0404 - val_accuracy: 0.9902\n",
            "Epoch 4/10\n",
            "1196/1196 [==============================] - 68s 57ms/step - loss: 0.0400 - accuracy: 0.9867 - val_loss: 0.0269 - val_accuracy: 0.9916\n",
            "Epoch 5/10\n",
            "1196/1196 [==============================] - 70s 58ms/step - loss: 0.0353 - accuracy: 0.9892 - val_loss: 0.0253 - val_accuracy: 0.9923\n",
            "Epoch 6/10\n",
            "1196/1196 [==============================] - 64s 54ms/step - loss: 0.0284 - accuracy: 0.9913 - val_loss: 0.0261 - val_accuracy: 0.9921\n",
            "Epoch 7/10\n",
            "1196/1196 [==============================] - 67s 56ms/step - loss: 0.0298 - accuracy: 0.9903 - val_loss: 0.0271 - val_accuracy: 0.9918\n",
            "Epoch 8/10\n",
            "1196/1196 [==============================] - 61s 51ms/step - loss: 0.0229 - accuracy: 0.9928 - val_loss: 0.0291 - val_accuracy: 0.9921\n",
            "Epoch 9/10\n",
            "1196/1196 [==============================] - 62s 52ms/step - loss: 0.0266 - accuracy: 0.9922 - val_loss: 0.0327 - val_accuracy: 0.9925\n",
            "Epoch 10/10\n",
            "1196/1196 [==============================] - 63s 53ms/step - loss: 0.0191 - accuracy: 0.9943 - val_loss: 0.0249 - val_accuracy: 0.9939\n"
          ]
        }
      ]
    },
    {
      "cell_type": "code",
      "source": [
        "# Plot training accuracy and loss\n",
        "plt.plot(modelHistory.history['accuracy'])\n",
        "plt.plot(modelHistory.history['val_accuracy'])\n",
        "plt.title('Model Accuracy')\n",
        "plt.xlabel('Epoch')\n",
        "plt.ylabel('Accuracy')\n",
        "plt.legend(['Train', 'Validation'], loc='upper left')\n",
        "plt.show()\n",
        "\n",
        "plt.plot(modelHistory.history['loss'])\n",
        "plt.plot(modelHistory.history['val_loss'])\n",
        "plt.title('Model Loss')\n",
        "plt.xlabel('Epoch')\n",
        "plt.ylabel('Loss')\n",
        "plt.legend(['Train', 'Validation'], loc='upper right')\n",
        "plt.show()"
      ],
      "metadata": {
        "colab": {
          "base_uri": "https://localhost:8080/",
          "height": 927
        },
        "id": "Lxh-QiOzkpV7",
        "outputId": "766db926-a182-4b7d-a197-816d07aba4fd"
      },
      "execution_count": 49,
      "outputs": [
        {
          "output_type": "display_data",
          "data": {
            "text/plain": [
              "<Figure size 640x480 with 1 Axes>"
            ],
            "image/png": "[encoded data removed]"
          },
          "metadata": {}
        },
        {
          "output_type": "display_data",
          "data": {
            "text/plain": [
              "<Figure size 640x480 with 1 Axes>"
            ],
            "image/png": "[encoded data removed]"
          },
          "metadata": {}
        }
      ]
    },
    {
      "cell_type": "markdown",
      "source": [
        "Observations:\n",
        "\n",
        "1. **Epochs and Performance**: With an increase in the number of epochs, the model's accuracy increases, and the loss decreases. This demonstrates the model's learning and improvement with more exposure to the training data.\n",
        "\n",
        "2. **Overfitting Identification**: Starting from the 6th epoch, a noticeable disparity emerges between the training and validation metrics:\n",
        "    - **Training Accuracy vs. Validation Accuracy**: Training accuracy surpasses validation accuracy.\n",
        "    - **Training Loss vs. Validation Loss**: Training loss becomes lower than validation loss.\n",
        "\n",
        "Inference:\n",
        "\n",
        "- The model starts to overfit the training data, leading to higher accuracy and lower loss on the training set compared to the validation set."
      ],
      "metadata": {
        "id": "Kxsn_6M4tlKW"
      }
    },
    {
      "cell_type": "code",
      "source": [
        "results = cnnModel.evaluate(X_test, y_test_e)"
      ],
      "metadata": {
        "colab": {
          "base_uri": "https://localhost:8080/"
        },
        "id": "sF6O6w7HT7TX",
        "outputId": "09f0d49e-cd63-4186-a88e-bb0219e4b5a5"
      },
      "execution_count": 47,
      "outputs": [
        {
          "output_type": "stream",
          "name": "stdout",
          "text": [
            "187/187 [==============================] - 5s 27ms/step - loss: 0.0345 - accuracy: 0.9936\n"
          ]
        }
      ]
    },
    {
      "cell_type": "code",
      "source": [
        "print(f\"Accuracy: {results[1]}\")\n",
        "print(f\"Loss: {results[0]}\")"
      ],
      "metadata": {
        "colab": {
          "base_uri": "https://localhost:8080/"
        },
        "id": "hklQRSYqkcHs",
        "outputId": "d5d91eb1-2bbb-4892-9da7-f0ba616ffd8d"
      },
      "execution_count": 48,
      "outputs": [
        {
          "output_type": "stream",
          "name": "stdout",
          "text": [
            "Accuracy: 0.9936454892158508\n",
            "Loss: 0.034473761916160583\n"
          ]
        }
      ]
    },
    {
      "cell_type": "markdown",
      "source": [
        "## Conclusion\n",
        "\n",
        "Trained a Convolutional Neural Network (CNN) model on the Typeface MNIST dataset for 10 epochs, the following key findings were observed:\n",
        "\n",
        "1. **Model Performance Metrics**:\n",
        "    - **Accuracy**: Achieved an impressive accuracy of 99.36% on the Typeface MNIST dataset. This metric indicates the percentage of correctly classified instances out of the total.\n",
        "    - **Loss**: Attained a low loss value of 3.4%. The loss represents the model's error in predicting the target labels; lower values indicate better performance.\n",
        "\n",
        "2. **Training Observations**:\n",
        "    - **Epochs vs. Performance**: As the number of epochs increased during training, the model demonstrated a steady improvement in accuracy and a reduction in loss.\n",
        "    - **Potential Overfitting**: From the observations after 10 epochs, it's essential to assess whether the model exhibits signs of overfitting, especially considering the high accuracy and relatively low loss.\n",
        "\n",
        "3. **Implications**:\n",
        "    - **High Accuracy**: The achieved accuracy of 99% suggests that the model performs exceptionally well in classifying Typeface MNIST digits.\n",
        "    - **Low Loss**: The low loss value of 0.3% further signifies the model's ability to make precise predictions.\n",
        "\n",
        "4. **Considerations**:\n",
        "    - **Overfitting Awareness**: Despite the high accuracy and low loss, it's crucial to evaluate potential overfitting concerns, especially when training accuracy is significantly higher than validation accuracy or if validation accuracy plateaus while training accuracy continues to improve.\n",
        "\n",
        "In summary, achieving a 99.36%% accuracy and a 3.4% loss on the Typeface MNIST dataset using a CNN after 10 epochs is a commendable achievement. However, it's essential to verify the model's robustness, investigate potential overfitting, and consider further refinements for broader applicability and reliability in real-world scenarios."
      ],
      "metadata": {
        "id": "vcUMmajvs8-e"
      }
    },
    {
      "cell_type": "markdown",
      "source": [
        "## References\n",
        "\n",
        "https://www.tensorflow.org/\n",
        "\n",
        "https://www.kaggle.com/datasets/nikbearbrown/tmnist-alphabet-94-characters/code\n"
      ],
      "metadata": {
        "id": "cO2CiWmfvykm"
      }
    },
    {
      "cell_type": "markdown",
      "source": [
        "## MIT License\n",
        "\n",
        "Copyright (c) 2023 Anshul Chaudhary\n",
        "\n",
        "Permission is hereby granted, free of charge, to any person obtaining a copy\n",
        "of this software and associated documentation files (the \"Software\"), to deal\n",
        "in the Software without restriction, including without limitation the rights\n",
        "to use, copy, modify, merge, publish, distribute, sublicense, and/or sell\n",
        "copies of the Software, and to permit persons to whom the Software is\n",
        "furnished to do so, subject to the following conditions:\n",
        "\n",
        "The above copyright notice and this permission notice shall be included in all\n",
        "copies or substantial portions of the Software.\n",
        "\n",
        "THE SOFTWARE IS PROVIDED \"AS IS\", WITHOUT WARRANTY OF ANY KIND, EXPRESS OR\n",
        "IMPLIED, INCLUDING BUT NOT LIMITED TO THE WARRANTIES OF MERCHANTABILITY,\n",
        "FITNESS FOR A PARTICULAR PURPOSE AND NONINFRINGEMENT. IN NO EVENT SHALL THE\n",
        "AUTHORS OR COPYRIGHT HOLDERS BE LIABLE FOR ANY CLAIM, DAMAGES OR OTHER\n",
        "LIABILITY, WHETHER IN AN ACTION OF CONTRACT, TORT OR OTHERWISE, ARISING FROM,\n",
        "OUT OF OR IN CONNECTION WITH THE SOFTWARE OR THE USE OR OTHER DEALINGS IN THE\n",
        "SOFTWARE."
      ],
      "metadata": {
        "id": "QrIbs0-ENRMh"
      }
    }
  ]
}